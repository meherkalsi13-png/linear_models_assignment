{
  "cells": [
    {
      "cell_type": "markdown",
      "id": "e0c7b14a-e5aa-4abc-b48b-b8a9d20dacac",
      "metadata": {
        "id": "e0c7b14a-e5aa-4abc-b48b-b8a9d20dacac"
      },
      "source": [
        "# Assignment: Linear Models\n",
        "## Do two questions in total: \"Q1+Q2\" or \"Q1+Q3\"\n",
        "### `! git clone https://github.com/ds3001f25/linear_models_assignment.git`"
      ]
    },
    {
      "cell_type": "markdown",
      "id": "ca1cfba3",
      "metadata": {
        "vscode": {
          "languageId": "plaintext"
        },
        "id": "ca1cfba3"
      },
      "source": [
        "**Q1.** Let's explore multiple linear regression in a two-variable case, to build more intuition about what is happening.\n",
        "\n",
        "Suppose the model is\n",
        "$$\n",
        "\\hat{y}_i = b_0 + b_1 z_{i1} + b_2 z_{i2}\n",
        "$$\n",
        "Assume that $z_{ij}$ is centered or de-meaned, so that $z_{ij} = x_{ij} - m_j$ where $m_j$ is the mean of variable $j$ and $x_{ij}$ is the original value of variable $j$ for observation $i$. Notice that this implies\n",
        "$$\n",
        "\\dfrac{1}{N} \\sum_{i=1}^N z_{ij} = 0\n",
        "$$\n",
        "which will simplify your calculations below substantially!\n",
        "\n",
        "1. Write down the SSE for this model.\n",
        "2. Take partial derivatives with respect to $b_0$, $b_1$, and $b_2$.\n",
        "3. Verify that the average error is zero and $e \\cdot z =0$ at the optimum, just as in the single linear regression case.\n",
        "4. Show that the optimal intercept is $b_0^* = \\bar{y}$. Eliminate $b_0^*$ from the remaining equations, and focus on $b_1$ and $b_2$.\n",
        "5. Write your results as a matrix equation in the form \"$Ab=C$\". These are called the **normal equations**.\n",
        "6. Divide both sides by $N$ and substitute $z_{ij} = x_{ij} - m_j$ back into your normal equations for $x_{ij}$. What is the matrix $A$? What is the vector $C$? Explain the intuition of your discovery."
      ]
    },
    {
      "cell_type": "markdown",
      "source": [],
      "metadata": {
        "id": "nGo4s-mfXrTX"
      },
      "id": "nGo4s-mfXrTX"
    },
    {
      "cell_type": "code",
      "execution_count": null,
      "id": "b005058d",
      "metadata": {
        "id": "b005058d"
      },
      "outputs": [],
      "source": []
    },
    {
      "cell_type": "markdown",
      "id": "95f22300-0180-4ed2-be8f-ed56cf4cd36b",
      "metadata": {
        "id": "95f22300-0180-4ed2-be8f-ed56cf4cd36b"
      },
      "source": [
        "**Q2.** This question is a case study for linear models. The data are about car prices. In particular, they include:\n",
        "\n",
        "  - `Price`, `Color`, `Seating_Capacity`\n",
        "  - `Body_Type`: crossover, hatchback, muv, sedan, suv\n",
        "  - `Make`, `Make_Year`: The brand of car and year produced\n",
        "  - `Mileage_Run`: The number of miles on the odometer\n",
        "  - `Fuel_Type`: Diesel or gasoline/petrol\n",
        "  - `Transmission`, `Transmission_Type`:  speeds and automatic/manual\n",
        "\n",
        "  1. Load `cars_hw.csv`. These data were really dirty, and I've already cleaned them a significant amount in terms of missing values and other issues, but some issues remain (e.g. outliers, badly scaled variables that require a log or arcsinh transformation). Clean the data however you think is most appropriate.\n",
        "  2. Summarize the `Price` variable and create a kernel density plot. Use `.groupby()` and `.describe()` to summarize prices by brand (`Make`). Make a grouped kernel density plot by `Make`. Which car brands are the most expensive? What do prices look like in general?\n",
        "  3. Split the data into an 80% training set and a 20% testing set.\n",
        "  4. Make a model where you regress price on the numeric variables alone; what is the $R^2$ and `RMSE` on the training set and test set? Make a second model where, for the categorical variables, you regress price on a model comprised of one-hot encoded regressors/features alone (you can use `pd.get_dummies()`; be careful of the dummy variable trap); what is the $R^2$ and `RMSE` on the test set? Which model performs better on the test set? Make a third model that combines all the regressors from the previous two; what is the $R^2$ and `RMSE` on the test set? Does the joint model perform better or worse, and by home much?\n",
        "  5. Use the `PolynomialFeatures` function from `sklearn` to expand the set of numerical variables you're using in the regression. As you increase the degree of the expansion, how do the $R^2$ and `RMSE` change? At what point does $R^2$ go negative on the test set? For your best model with expanded features, what is the $R^2$ and `RMSE`? How does it compare to your best model from part 4?\n",
        "  6. For your best model so far, determine the predicted values for the test data and plot them against the true values. Do the predicted values and true values roughly line up along the diagonal, or not? Compute the residuals/errors for the test data and create a kernel density plot. Do the residuals look roughly bell-shaped around zero? Evaluate the strengths and weaknesses of your model."
      ]
    },
    {
      "cell_type": "code",
      "execution_count": null,
      "id": "0acc2b86",
      "metadata": {
        "id": "0acc2b86"
      },
      "outputs": [],
      "source": []
    },
    {
      "cell_type": "markdown",
      "id": "aedcd486",
      "metadata": {
        "id": "aedcd486"
      },
      "source": [
        "**Q3.** This question refers to the `heart_hw.csv` data. It contains three variables:\n",
        "\n",
        "  - `y`: Whether the individual survived for three years, coded 0 for death and 1 for survival\n",
        "  - `age`: Patient's age\n",
        "  - `transplant`: `control` for not receiving a transplant and `treatment` for receiving a transplant\n",
        "\n",
        "Since a heart transplant is a dangerous operation and even people who successfully get heart transplants might suffer later complications, we want to look at whether a group of transplant recipients tends to survive longer than a comparison group who does not get the procedure.\n",
        "\n",
        "1. Compute (a) the proportion of people who survive in the control group who do not receive a transplant, and (b) the difference between the proportion of people who survive in the treatment group and the proportion of people who survive in the control group. In a randomized controlled trial, this is called the **average treatment effect**.\n",
        "2. Regress `y` on `transplant` using a linear model with a constant. How does the constant/intercept of the regression and the coefficient on transplant compare to your answers from part 1? Explain the relationship clearly.\n",
        "3. We'd like to include `age` in the regression, since it's reasonable to expect that older patients are less likely to survive an extensive surgery like a heart transplant. Regress `y` on a constant, transplant, and age. How does the intercept change?\n",
        "4. Build a more flexible model that allows for non-linear age effects and interactions between age and treatment. Use a train-test split to validate your model. Estimate your best model, predict the survival probability by age, and plot your results conditional on receiving a transplant and not. Describe what you see.\n",
        "5. Imagine someone suggests using these kinds of models to select who receives organ transplants; perhaps the CDC or NIH starts using a scoring algorithm to decide who is contacted about a potential organ. What are your concerns about how it is built and how it is deployed?"
      ]
    },
    {
      "cell_type": "markdown",
      "source": [
        "**Q1**: Compute (a) the proportion of people who survive in the control group who do not receive a transplant, and (b) the difference between the proportion of people who survive in the treatment group and the proportion of people who survive in the control group. In a randomized controlled trial, this is called the average treatment effect."
      ],
      "metadata": {
        "id": "sqTRMXbmYYx0"
      },
      "id": "sqTRMXbmYYx0"
    },
    {
      "cell_type": "code",
      "source": [
        "import pandas as pd\n",
        "import numpy as np\n",
        "import matplotlib.pyplot as plt\n",
        "import seaborn as sns\n",
        "df = pd.read_csv(\"heart_hw.csv\")\n",
        "print(df.head())"
      ],
      "metadata": {
        "colab": {
          "base_uri": "https://localhost:8080/"
        },
        "id": "3-65cHTkZl-f",
        "outputId": "4055e310-44d9-470d-9d6b-3731998740d3"
      },
      "id": "3-65cHTkZl-f",
      "execution_count": 2,
      "outputs": [
        {
          "output_type": "stream",
          "name": "stdout",
          "text": [
            "   Unnamed: 0  age transplant  y\n",
            "0           1   53    control  0\n",
            "1           2   43    control  0\n",
            "2           3   52    control  0\n",
            "3           4   52    control  0\n",
            "4           5   54    control  0\n"
          ]
        }
      ]
    },
    {
      "cell_type": "code",
      "execution_count": 3,
      "id": "d9b3a79a",
      "metadata": {
        "colab": {
          "base_uri": "https://localhost:8080/"
        },
        "id": "d9b3a79a",
        "outputId": "f7e49083-4042-40b8-b6ae-2180e9827a26"
      },
      "outputs": [
        {
          "output_type": "stream",
          "name": "stdout",
          "text": [
            "Proportion of people who survived in the control group who did not receive a transplant: 0.11764705882352941\n",
            "Difference in survival proportion (Average Treatment Effect): 0.23017902813299232\n"
          ]
        }
      ],
      "source": [
        "#a) proportion of people who survive in control group who do not receive a transplant\n",
        "#get the whole control group\n",
        "control_group = df[df[\"transplant\"] == \"control\"]\n",
        "#find number of survivers in the control group\n",
        "control_survivors = control_group[\"y\"].sum()\n",
        "#find total number of control people\n",
        "control_total = len(control_group)\n",
        "#find proprotion of people who survived out of control group\n",
        "control_survival_proportion = control_survivors / control_total\n",
        "print(\"Proportion of people who survived in the control group who did not receive a transplant:\", control_survival_proportion)\n",
        "\n",
        "#b) difference between the proportion of people who survive in the treatment group and proportion of people who survive in the control group#g\n",
        "#get the whole treatment group\n",
        "treatment_group = df[df[\"transplant\"] == \"treatment\"]\n",
        "#find number of survivors in the treatment group\n",
        "treatment_survivors = treatment_group[\"y\"].sum()\n",
        "#find total number of treatment people\n",
        "treatment_total = len(treatment_group)\n",
        "#find proportion of people who survive in treatment vs control\n",
        "treatment_survival_proportion = treatment_survivors / treatment_total\n",
        "#difference between treatment survival and control survival\n",
        "average_treatment_effect = treatment_survival_proportion - control_survival_proportion\n",
        "print(\"Difference in survival proportion (Average Treatment Effect):\", average_treatment_effect)"
      ]
    },
    {
      "cell_type": "markdown",
      "source": [
        "**Q2**:Regress y on transplant using a linear model with a constant. How does the constant/intercept of the regression and the coefficient on transplant compare to your answers from part 1? Explain the relationship clearly.\n",
        "\n",
        "The regression results match exactly with the manual calculations in part 1. The intercept equals the control group’s survival proportion, and the transplant coefficient equals the difference in survival between treatment and control. This shows that regressing survival on a binary treatment indicator is algebraically equivalent to computing the difference in mean survival between groups."
      ],
      "metadata": {
        "id": "NeGrNxa2cUn6"
      },
      "id": "NeGrNxa2cUn6"
    },
    {
      "cell_type": "code",
      "source": [
        "from sklearn.linear_model import LinearRegression\n",
        "\n",
        "#create binary variable for treatment and control\n",
        "df[\"transplant_binary\"] = (df[\"transplant\"] == \"treatment\").astype(int)\n",
        "\n",
        "#set up x and y\n",
        "X = df[[\"transplant_binary\"]]   # predictor (needs to be a 2D array)\n",
        "y = df[\"y\"]                     # outcome\n",
        "\n",
        "#fit linear regression\n",
        "model = LinearRegression()\n",
        "model.fit(X, y)\n",
        "\n",
        "#coefficients\n",
        "intercept = model.intercept_\n",
        "coefficient = model.coef_[0]\n",
        "print(intercept)\n",
        "print(coefficient)\n"
      ],
      "metadata": {
        "colab": {
          "base_uri": "https://localhost:8080/"
        },
        "id": "QleEhf74cZX6",
        "outputId": "6bbffaed-23b4-43b1-ac09-2de837f13e67"
      },
      "id": "QleEhf74cZX6",
      "execution_count": 4,
      "outputs": [
        {
          "output_type": "stream",
          "name": "stdout",
          "text": [
            "0.1176470588235293\n",
            "0.23017902813299249\n"
          ]
        }
      ]
    },
    {
      "cell_type": "markdown",
      "source": [
        "**Q3**: We'd like to include age in the regression, since it's reasonable to expect that older patients are less likely to survive an extensive surgery like a heart transplant. Regress y on a constant, transplant, and age. How does the intercept change?\n",
        "\n",
        "The intercept increases from 0.117 to 0.701.\n"
      ],
      "metadata": {
        "id": "bTxjPXGOfanY"
      },
      "id": "bTxjPXGOfanY"
    },
    {
      "cell_type": "code",
      "source": [
        "df[\"transplant_binary\"] = (df[\"transplant\"] == \"treatment\").astype(int)\n",
        "\n",
        "# predictors (constant automatically added by sklearn)\n",
        "X = df[[\"transplant_binary\", \"age\"]]\n",
        "y = df[\"y\"]\n",
        "\n",
        "# fit regression\n",
        "model = LinearRegression()\n",
        "model.fit(X, y)\n",
        "\n",
        "intercept = model.intercept_\n",
        "coef_transplant = model.coef_[0]\n",
        "coef_age = model.coef_[1]\n",
        "\n",
        "print(\"Intercept:\", intercept)\n",
        "print(\"Coefficient on transplant:\", coef_transplant)\n",
        "print(\"Coefficient on age:\", coef_age)"
      ],
      "metadata": {
        "colab": {
          "base_uri": "https://localhost:8080/"
        },
        "id": "4bwCpfe3fpKY",
        "outputId": "4085a811-779f-48d0-abe9-beea86055c9b"
      },
      "id": "4bwCpfe3fpKY",
      "execution_count": 5,
      "outputs": [
        {
          "output_type": "stream",
          "name": "stdout",
          "text": [
            "Intercept: 0.7019569721740947\n",
            "Coefficient on transplant: 0.2647016865036751\n",
            "Coefficient on age: -0.013607217160218647\n"
          ]
        }
      ]
    },
    {
      "cell_type": "markdown",
      "source": [
        "**Q4**: Build a more flexible model that allows for non-linear age effects and interactions between age and treatment. Use a train-test split to validate your model. Estimate your best model, predict the survival probability by age, and plot your results conditional on receiving a transplant and not. Describe what you see.\n",
        "\n",
        "\n",
        "After allowing for non-linear age effects and an interaction between age and transplant status, the model fit improved slightly (R² train = 0.16, R² test = 0.23). The plot shows that predicted survival probabilities decrease with age for both groups, but there is a much more steep and dramatic decline for transplant recipients. Younger patients seem to benefit more from a transplant, with predicted survival above 0.8, while older patients have smaller or even negative benefits as surgical risks increase. The curve in both lines comes from the squared age term, and the shrinking gap between groups reflects the negative interaction between age and transplant. Overall, the model suggests that transplants help younger patients the most and are less effective for older ones.\n"
      ],
      "metadata": {
        "id": "SvNeA7-RffXQ"
      },
      "id": "SvNeA7-RffXQ"
    },
    {
      "cell_type": "code",
      "source": [
        "from sklearn.model_selection import train_test_split\n",
        "#create binary variable for treatment and control\n",
        "df[\"transplant_binary\"] = (df[\"transplant\"] == \"treatment\").astype(int)\n",
        "\n",
        "#create non linear age which is age^2\n",
        "df[\"age2\"] = df[\"age\"] ** 2\n",
        "\n",
        "#create a variable because transplant helpfulness could depend on age\n",
        "df[\"transplant_age\"] = df[\"transplant_binary\"] * df[\"age\"]\n",
        "\n",
        "#define predictors\n",
        "X = df[[\"transplant_binary\", \"age\", \"age2\", \"transplant_age\"]]\n",
        "y = df[\"y\"]\n",
        "\n",
        "#create test train split\n",
        "X_train, X_test, y_train, y_test = train_test_split(X, y, test_size=0.2, random_state=42)\n",
        "\n",
        "#fitting model\n",
        "model = LinearRegression()\n",
        "model.fit(X_train, y_train)\n",
        "\n",
        "#evaluate R^2 on train/test\n",
        "train_r2 = model.score(X_train, y_train)\n",
        "test_r2 = model.score(X_test, y_test)\n",
        "\n",
        "print(\"Train R^2:\", train_r2)\n",
        "print(\"Test R^2:\", test_r2)\n",
        "print(\"Intercept:\", model.intercept_)\n",
        "print(\"Coefficients:\", model.coef_)\n",
        "#test R^2 is slightly higher than train R^2, so model is not overfitting, which means it can generalize well. moderatelly fits the data.\n",
        "\n",
        "#predict survival probabilities over age range for both groups\n",
        "age_range = np.linspace(df[\"age\"].min(), df[\"age\"].max(), 100)\n",
        "pred_df = pd.DataFrame({\n",
        "    \"age\": age_range,\n",
        "    \"age2\": age_range**2,\n",
        "    \"transplant_binary\": [0]*100,\n",
        "    \"transplant_age\": [0]*100\n",
        "})\n",
        "pred_df_treat = pred_df.copy()\n",
        "pred_df_treat[\"transplant_binary\"] = 1\n",
        "pred_df_treat[\"transplant_age\"] = age_range\n",
        "\n",
        "#predictions\n",
        "pred_df[\"pred\"] = model.predict(pred_df[[\"transplant_binary\", \"age\", \"age2\", \"transplant_age\"]])\n",
        "pred_df_treat[\"pred\"] = model.predict(pred_df_treat[[\"transplant_binary\", \"age\", \"age2\", \"transplant_age\"]])\n",
        "\n",
        "#plot\n",
        "plt.figure(figsize=(8,5))\n",
        "plt.plot(pred_df[\"age\"], pred_df[\"pred\"], label=\"Control (no transplant)\")\n",
        "plt.plot(pred_df_treat[\"age\"], pred_df_treat[\"pred\"], label=\"Treatment (transplant)\")\n",
        "plt.xlabel(\"Age\")\n",
        "plt.ylabel(\"Predicted survival probability\")\n",
        "plt.title(\"Predicted 3-Year Survival by Age and Transplant Status\")\n",
        "plt.legend()\n",
        "plt.grid(True)\n",
        "plt.show()\n"
      ],
      "metadata": {
        "colab": {
          "base_uri": "https://localhost:8080/",
          "height": 558
        },
        "id": "9ME3L0YSgE86",
        "outputId": "973c5aa5-debd-4a12-ff1b-6541fcf7eedf"
      },
      "id": "9ME3L0YSgE86",
      "execution_count": 8,
      "outputs": [
        {
          "output_type": "stream",
          "name": "stdout",
          "text": [
            "Train R^2: 0.15618479650026795\n",
            "Test R^2: 0.23291360740207956\n",
            "Intercept: 0.08120500467749936\n",
            "Coefficients: [ 7.38723001e-01  1.24760093e-02 -2.45413408e-04 -1.21592215e-02]\n"
          ]
        },
        {
          "output_type": "display_data",
          "data": {
            "text/plain": [
              "<Figure size 800x500 with 1 Axes>"
            ],
            "image/png": "[encoded data removed]"
          },
          "metadata": {}
        }
      ]
    },
    {
      "cell_type": "markdown",
      "source": [
        "**Q5**: Imagine someone suggests using these kinds of models to select who receives organ transplants; perhaps the CDC or NIH starts using a scoring algorithm to decide who is contacted about a potential organ. What are your concerns about how it is built and how it is deployed?\n",
        "\n",
        "\n",
        "\n",
        "I think these models can be useful, but they shouldn’t be the only thing used to make decisions. They can create bias, especially since they might make it look like transplants are less successful for older people when that’s not always true. The model doesn’t consider all the other factors that affect survival, and it really oversimplifies a complex decision. Ethically, it also feels strange that data like this could be used to decide who gets an organ. It takes away the human and emotional side of the decision, almost like a machine is judging whose life is more worth saving. I think models like this should be used carefully and with a grain of salt; hey can help guide decisions, they shouldn't be the only tool determining who gets an organ.\n"
      ],
      "metadata": {
        "id": "_iXVJkxKfkqR"
      },
      "id": "_iXVJkxKfkqR"
    }
  ],
  "metadata": {
    "colab": {
      "provenance": []
    },
    "kernelspec": {
      "display_name": "Python 3 (ipykernel)",
      "language": "python",
      "name": "python3"
    },
    "language_info": {
      "codemirror_mode": {
        "name": "ipython",
        "version": 3
      },
      "file_extension": ".py",
      "mimetype": "text/x-python",
      "name": "python",
      "nbconvert_exporter": "python",
      "pygments_lexer": "ipython3",
      "version": "3.10.18"
    }
  },
  "nbformat": 4,
  "nbformat_minor": 5
}